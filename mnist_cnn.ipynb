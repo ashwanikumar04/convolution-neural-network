{
 "cells": [
  {
   "cell_type": "markdown",
   "metadata": {},
   "source": [
    "# MNIST CNN"
   ]
  },
  {
   "cell_type": "code",
   "execution_count": 1,
   "metadata": {
    "collapsed": true
   },
   "outputs": [],
   "source": [
    "import tensorflow as tf"
   ]
  },
  {
   "cell_type": "code",
   "execution_count": 3,
   "metadata": {},
   "outputs": [
    {
     "name": "stdout",
     "output_type": "stream",
     "text": []
    }
   ],
   "source": [
    "from tensorflow.examples.tutorials.mnist import input_data"
   ]
  },
  {
   "cell_type": "code",
   "execution_count": 4,
   "metadata": {},
   "outputs": [
    {
     "name": "stdout",
     "output_type": "stream",
     "text": [
      "Extracting MNIST_data/train-images-idx3-ubyte.gz\n",
      "Extracting MNIST_data/train-labels-idx1-ubyte.gz\n",
      "Extracting MNIST_data/t10k-images-idx3-ubyte.gz\n",
      "Extracting MNIST_data/t10k-labels-idx1-ubyte.gz\n"
     ]
    }
   ],
   "source": [
    "mnist = input_data.read_data_sets(\"MNIST_data/\",one_hot=True)"
   ]
  },
  {
   "cell_type": "markdown",
   "metadata": {
    "collapsed": true
   },
   "source": [
    "# Helper Functions\n",
    "    "
   ]
  },
  {
   "cell_type": "markdown",
   "metadata": {},
   "source": [
    "## INIT WEIGHTS"
   ]
  },
  {
   "cell_type": "code",
   "execution_count": 21,
   "metadata": {
    "collapsed": true
   },
   "outputs": [],
   "source": [
    "def init_weights(shape):\n",
    "    init_random_dist = tf.truncated_normal(shape,stddev=0.1)\n",
    "    return tf.Variable(init_random_dist)"
   ]
  },
  {
   "cell_type": "markdown",
   "metadata": {},
   "source": [
    "## INIT BIAS"
   ]
  },
  {
   "cell_type": "code",
   "execution_count": 22,
   "metadata": {
    "collapsed": true
   },
   "outputs": [],
   "source": [
    "def init_bias(shape):\n",
    "    init_bias_vals = tf.constant(0.1,shape=shape)\n",
    "    return tf.Variable(init_bias_vals)"
   ]
  },
  {
   "cell_type": "markdown",
   "metadata": {},
   "source": [
    "## CONV2D"
   ]
  },
  {
   "cell_type": "code",
   "execution_count": 23,
   "metadata": {
    "collapsed": true
   },
   "outputs": [],
   "source": [
    "def conv2d(x,W):\n",
    "    # x --> [batch,H,W,channels]\n",
    "    # W --> [filter H, filter W, Channels In, Channels Out]\n",
    "    return tf.nn.conv2d(x,W,strides=[1,1,1,1],padding=\"SAME\")\n",
    "    "
   ]
  },
  {
   "cell_type": "markdown",
   "metadata": {},
   "source": [
    "## MAX POOLING"
   ]
  },
  {
   "cell_type": "code",
   "execution_count": 36,
   "metadata": {
    "collapsed": true
   },
   "outputs": [],
   "source": [
    "def max_pool_2x2(x):\n",
    "    # x --> [batch,H,W,channels]\n",
    "    return tf.nn.max_pool(x,ksize=[1,2,2,1],strides=[1,2,2,1],padding=\"SAME\")"
   ]
  },
  {
   "cell_type": "markdown",
   "metadata": {},
   "source": [
    "## CONVOLUTIONAL LAYER"
   ]
  },
  {
   "cell_type": "code",
   "execution_count": 31,
   "metadata": {
    "collapsed": true
   },
   "outputs": [],
   "source": [
    "def convolutional_layer(input_x,shape):\n",
    "    W = init_weights(shape)\n",
    "    b = init_bias([shape[3]])\n",
    "    return tf.nn.relu(conv2d(input_x,W)+b)"
   ]
  },
  {
   "cell_type": "markdown",
   "metadata": {},
   "source": [
    "## FULLY CONNECTED LAYER"
   ]
  },
  {
   "cell_type": "code",
   "execution_count": 26,
   "metadata": {
    "collapsed": true
   },
   "outputs": [],
   "source": [
    "def normal_full_layer(input_layer,size):\n",
    "    input_size = int(input_layer.get_shape()[1])\n",
    "    W = init_weights([input_size,size])\n",
    "    b = init_bias([size])\n",
    "    return tf.matmul(input_layer,W)+b    "
   ]
  },
  {
   "cell_type": "code",
   "execution_count": 33,
   "metadata": {
    "collapsed": true
   },
   "outputs": [],
   "source": [
    "# Placeholders\n",
    "x = tf.placeholder(tf.float32,shape=[None,784])\n",
    "y_true = tf.placeholder(tf.float32,shape=[None,10])\n",
    "x_image = tf.reshape(x,[-1,28,28,1])"
   ]
  },
  {
   "cell_type": "code",
   "execution_count": 37,
   "metadata": {},
   "outputs": [],
   "source": [
    "convo_1 = convolutional_layer(x_image, shape=[5,5,1,32])\n",
    "convo_1_pooling = max_pool_2x2(convo_1)"
   ]
  },
  {
   "cell_type": "code",
   "execution_count": 38,
   "metadata": {},
   "outputs": [],
   "source": [
    "convo_2 = convolutional_layer(convo_1_pooling, shape=[5,5,32,64])\n",
    "convo_2_pooling = max_pool_2x2(convo_2)"
   ]
  },
  {
   "cell_type": "code",
   "execution_count": 40,
   "metadata": {
    "collapsed": true
   },
   "outputs": [],
   "source": [
    "# Why 7 by 7 image? Because we did 2 pooling layers, so (28/2)/2 = 7\n",
    "convo_2_flat= tf.reshape(convo_2_pooling,[-1,7*7*64])\n",
    "full_layer_1= tf.nn.relu(normal_full_layer(convo_2_flat,1024))"
   ]
  },
  {
   "cell_type": "code",
   "execution_count": 41,
   "metadata": {
    "collapsed": true
   },
   "outputs": [],
   "source": [
    "# Dropout\n",
    "hold_prob = tf.placeholder(tf.float32)\n",
    "full_one_dropout = tf.nn.dropout(full_layer_1,keep_prob=hold_prob)\n"
   ]
  },
  {
   "cell_type": "code",
   "execution_count": 42,
   "metadata": {
    "collapsed": true
   },
   "outputs": [],
   "source": [
    "y_pred = normal_full_layer(full_one_dropout,10)"
   ]
  },
  {
   "cell_type": "code",
   "execution_count": 44,
   "metadata": {},
   "outputs": [],
   "source": [
    "# Loss function\n",
    "cross_entropy = tf.reduce_mean(tf.nn.softmax_cross_entropy_with_logits_v2(labels=y_true,logits=y_pred))\n"
   ]
  },
  {
   "cell_type": "code",
   "execution_count": 45,
   "metadata": {
    "collapsed": true
   },
   "outputs": [],
   "source": [
    "# Optimizer\n",
    "optimizer = tf.train.AdamOptimizer(learning_rate=0.001)\n",
    "train = optimizer.minimize(cross_entropy)"
   ]
  },
  {
   "cell_type": "code",
   "execution_count": 46,
   "metadata": {
    "collapsed": true
   },
   "outputs": [],
   "source": [
    "init = tf.global_variables_initializer()"
   ]
  },
  {
   "cell_type": "code",
   "execution_count": 47,
   "metadata": {},
   "outputs": [
    {
     "name": "stdout",
     "output_type": "stream",
     "text": [
      "On Step: 0\n",
      "Accuracy\n",
      "0.1567\n",
      "On Step: 100\n",
      "Accuracy\n",
      "0.9577\n",
      "On Step: 200\n",
      "Accuracy\n",
      "0.9703\n",
      "On Step: 300\n",
      "Accuracy\n",
      "0.976\n",
      "On Step: 400\n",
      "Accuracy\n",
      "0.9823\n",
      "On Step: 500\n",
      "Accuracy\n",
      "0.9806\n",
      "On Step: 600\n",
      "Accuracy\n",
      "0.9835\n",
      "On Step: 700\n",
      "Accuracy\n",
      "0.9851\n",
      "On Step: 800\n",
      "Accuracy\n",
      "0.9869\n",
      "On Step: 900\n",
      "Accuracy\n",
      "0.987\n",
      "On Step: 1000\n",
      "Accuracy\n",
      "0.9868\n",
      "On Step: 1100\n",
      "Accuracy\n",
      "0.9868\n",
      "On Step: 1200\n",
      "Accuracy\n",
      "0.9892\n",
      "On Step: 1300\n",
      "Accuracy\n",
      "0.9881\n",
      "On Step: 1400\n",
      "Accuracy\n",
      "0.9874\n",
      "On Step: 1500\n",
      "Accuracy\n",
      "0.9888\n",
      "On Step: 1600\n",
      "Accuracy\n",
      "0.9877\n",
      "On Step: 1700\n",
      "Accuracy\n",
      "0.9881\n",
      "On Step: 1800\n",
      "Accuracy\n",
      "0.9891\n",
      "On Step: 1900\n",
      "Accuracy\n",
      "0.9896\n",
      "On Step: 2000\n",
      "Accuracy\n",
      "0.9906\n",
      "On Step: 2100\n",
      "Accuracy\n",
      "0.9896\n",
      "On Step: 2200\n",
      "Accuracy\n",
      "0.9908\n",
      "On Step: 2300\n",
      "Accuracy\n",
      "0.9903\n",
      "On Step: 2400\n",
      "Accuracy\n",
      "0.9893\n",
      "On Step: 2500\n",
      "Accuracy\n",
      "0.9898\n",
      "On Step: 2600\n",
      "Accuracy\n",
      "0.9913\n",
      "On Step: 2700\n",
      "Accuracy\n",
      "0.9913\n",
      "On Step: 2800\n",
      "Accuracy\n",
      "0.9905\n",
      "On Step: 2900\n",
      "Accuracy\n",
      "0.9913\n",
      "On Step: 3000\n",
      "Accuracy\n",
      "0.9919\n",
      "On Step: 3100\n",
      "Accuracy\n",
      "0.9899\n",
      "On Step: 3200\n",
      "Accuracy\n",
      "0.9916\n",
      "On Step: 3300\n",
      "Accuracy\n",
      "0.9893\n",
      "On Step: 3400\n",
      "Accuracy\n",
      "0.9913\n",
      "On Step: 3500\n",
      "Accuracy\n",
      "0.9901\n",
      "On Step: 3600\n",
      "Accuracy\n",
      "0.9913\n",
      "On Step: 3700\n",
      "Accuracy\n",
      "0.9906\n",
      "On Step: 3800\n",
      "Accuracy\n",
      "0.9916\n",
      "On Step: 3900\n",
      "Accuracy\n",
      "0.9922\n",
      "On Step: 4000\n",
      "Accuracy\n",
      "0.9913\n",
      "On Step: 4100\n",
      "Accuracy\n",
      "0.9914\n",
      "On Step: 4200\n",
      "Accuracy\n",
      "0.9905\n",
      "On Step: 4300\n",
      "Accuracy\n",
      "0.9902\n",
      "On Step: 4400\n",
      "Accuracy\n",
      "0.9911\n",
      "On Step: 4500\n",
      "Accuracy\n",
      "0.9911\n",
      "On Step: 4600\n",
      "Accuracy\n",
      "0.9927\n",
      "On Step: 4700\n",
      "Accuracy\n",
      "0.9912\n",
      "On Step: 4800\n",
      "Accuracy\n",
      "0.9918\n",
      "On Step: 4900\n",
      "Accuracy\n",
      "0.9906\n"
     ]
    }
   ],
   "source": [
    "steps = 5000\n",
    "with tf.Session() as sess:\n",
    "    sess.run(init)\n",
    "    for i in range(steps):\n",
    "        batch_x, batch_y = mnist.train.next_batch(100)\n",
    "        sess.run(train,feed_dict={x:batch_x,y_true:batch_y,hold_prob:0.5})\n",
    "        \n",
    "        if i%100==0:\n",
    "            print(\"On Step: {}\".format(i))\n",
    "            print(\"Accuracy\")\n",
    "            matches = tf.equal(tf.argmax(y_pred,1),tf.argmax(y_true,1))\n",
    "            acc = tf.reduce_mean(tf.cast(matches,tf.float32))\n",
    "            print(sess.run(acc,feed_dict={x:mnist.test.images,y_true:mnist.test.labels,hold_prob:1.0}))"
   ]
  }
 ],
 "metadata": {
  "kernelspec": {
   "display_name": "Python 3",
   "language": "python",
   "name": "python3"
  },
  "language_info": {
   "codemirror_mode": {
    "name": "ipython",
    "version": 3
   },
   "file_extension": ".py",
   "mimetype": "text/x-python",
   "name": "python",
   "nbconvert_exporter": "python",
   "pygments_lexer": "ipython3",
   "version": "3.6.3"
  }
 },
 "nbformat": 4,
 "nbformat_minor": 2
}
